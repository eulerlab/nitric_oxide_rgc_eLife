{
 "cells": [
  {
   "cell_type": "markdown",
   "id": "designing-lemon",
   "metadata": {},
   "source": [
    "# Fig. S5: MEA Bayesian Information Criterion (BIC)"
   ]
  },
  {
   "cell_type": "markdown",
   "id": "afraid-nashville",
   "metadata": {},
   "source": [
    "## imports"
   ]
  },
  {
   "cell_type": "code",
   "execution_count": 1,
   "id": "headed-earth",
   "metadata": {},
   "outputs": [],
   "source": [
    "%config InlineBackend.figure_format = 'retina'\n",
    "%matplotlib inline\n",
    "%load_ext autoreload\n",
    "%autoreload 2\n",
    "import pickle5\n",
    "import numpy as np\n",
    "import pandas as pd\n",
    "import seaborn as sns\n",
    "import matplotlib.pyplot as plt \n",
    "from sklearn.model_selection import GridSearchCV\n",
    "from sklearn.mixture import GaussianMixture\n",
    "from sklearn.preprocessing import StandardScaler\n",
    "from sklearn.decomposition import SparsePCA"
   ]
  },
  {
   "cell_type": "code",
   "execution_count": 2,
   "id": "latest-sight",
   "metadata": {},
   "outputs": [],
   "source": [
    "file_path = 'ADD_YOUR_PATH_TO_DATA_HERE'\n",
    "\n",
    "with open(file_path+'/MEA_dataset.pkl', 'rb') as handle:\n",
    "    mea_dataset = pickle5.load(handle)"
   ]
  },
  {
   "cell_type": "markdown",
   "id": "continuous-cyprus",
   "metadata": {},
   "source": [
    "# --------------------------------------------------------------------------------------------------------------------"
   ]
  },
  {
   "cell_type": "markdown",
   "id": "blond-angel",
   "metadata": {},
   "source": [
    "# normalized PSTHs"
   ]
  },
  {
   "cell_type": "code",
   "execution_count": 4,
   "id": "tender-breathing",
   "metadata": {
    "jupyter": {
     "source_hidden": true
    }
   },
   "outputs": [],
   "source": [
    "datatset_normalization = 'PSTHs_norm'"
   ]
  },
  {
   "cell_type": "code",
   "execution_count": 5,
   "id": "facial-cargo",
   "metadata": {
    "jupyter": {
     "source_hidden": true
    }
   },
   "outputs": [],
   "source": [
    "# number of cells per cluster\n",
    "num_cells_cluster_i = len(mea_dataset[datatset_normalization][0])\n",
    "num_cells_cluster_ii = len(mea_dataset[datatset_normalization][1])\n",
    "num_cells_cluster_iii = len(mea_dataset[datatset_normalization][5])"
   ]
  },
  {
   "cell_type": "code",
   "execution_count": 8,
   "id": "foster-calculator",
   "metadata": {
    "jupyter": {
     "source_hidden": true
    }
   },
   "outputs": [],
   "source": [
    "cluster_i_traces_ctrl = np.zeros((num_cells_cluster_i,mea_dataset[datatset_normalization][0][0][0].shape[0]))\n",
    "cluster_ii_traces_ctrl = np.zeros((num_cells_cluster_ii,mea_dataset[datatset_normalization][0][0][0].shape[0]))\n",
    "cluster_iii_traces_ctrl = np.zeros((num_cells_cluster_iii,mea_dataset[datatset_normalization][0][0][0].shape[0]))\n",
    "\n",
    "for i in range(num_cells_cluster_i):\n",
    "    cluster_i_traces_ctrl[i,:] = mea_dataset[datatset_normalization][0][i][0]\n",
    "for i in range(num_cells_cluster_ii):\n",
    "    cluster_ii_traces_ctrl[i,:] = mea_dataset[datatset_normalization][1][i][0]\n",
    "for i in range(num_cells_cluster_iii):\n",
    "    cluster_iii_traces_ctrl[i,:] = mea_dataset[datatset_normalization][5][i][0]\n",
    "    \n",
    "# concatenate traces\n",
    "ctrl_traces = np.vstack((cluster_i_traces_ctrl,cluster_ii_traces_ctrl,cluster_iii_traces_ctrl))"
   ]
  },
  {
   "cell_type": "markdown",
   "id": "needed-making",
   "metadata": {},
   "source": [
    "# --------------------------------------------------------------------------------------------------------------------"
   ]
  },
  {
   "cell_type": "markdown",
   "id": "occasional-imagination",
   "metadata": {},
   "source": [
    "## sparse PCA"
   ]
  },
  {
   "cell_type": "code",
   "execution_count": null,
   "id": "religious-lemon",
   "metadata": {
    "jupyter": {
     "source_hidden": true
    }
   },
   "outputs": [],
   "source": [
    "sc = StandardScaler()\n",
    "control_stand = sc.fit_transform(ctrl_traces)"
   ]
  },
  {
   "cell_type": "code",
   "execution_count": 16,
   "id": "flush-receptor",
   "metadata": {
    "jupyter": {
     "source_hidden": true
    }
   },
   "outputs": [],
   "source": [
    "random_state=42\n",
    "n_components=20\n",
    "spca = SparsePCA(n_components=n_components, alpha=3.5, random_state=random_state)\n",
    "spca.fit(control_stand)\n",
    "traces_transformed = spca.transform(control_stand)"
   ]
  },
  {
   "cell_type": "code",
   "execution_count": 25,
   "id": "bronze-northeast",
   "metadata": {
    "jupyter": {
     "source_hidden": true
    }
   },
   "outputs": [],
   "source": [
    "zero_comp = np.where(np.mean(spca.components_,axis=1)==0)\n",
    "spca_com = np.delete(spca.components_, zero_comp, 0)"
   ]
  },
  {
   "cell_type": "markdown",
   "id": "raising-seventh",
   "metadata": {},
   "source": [
    "# --------------------------------------------------------------------------------------------------------------------"
   ]
  },
  {
   "cell_type": "markdown",
   "id": "developmental-alabama",
   "metadata": {},
   "source": [
    "## clustering"
   ]
  },
  {
   "cell_type": "code",
   "execution_count": 26,
   "id": "answering-branch",
   "metadata": {
    "jupyter": {
     "source_hidden": true
    }
   },
   "outputs": [],
   "source": [
    "def gmm_bic_score(estimator, X):\n",
    "    \"\"\"Callable to pass to GridSearchCV that will use the BIC score.\"\"\"\n",
    "    return -estimator.bic(X)"
   ]
  },
  {
   "cell_type": "code",
   "execution_count": 27,
   "id": "japanese-locator",
   "metadata": {
    "jupyter": {
     "source_hidden": true
    }
   },
   "outputs": [],
   "source": [
    "transformed_traces = np.delete(traces_transformed, zero_comp, 1)\n",
    "features_stand = sc.fit_transform(transformed_traces)"
   ]
  },
  {
   "cell_type": "code",
   "execution_count": 22,
   "id": "fifth-acoustic",
   "metadata": {
    "jupyter": {
     "source_hidden": true
    }
   },
   "outputs": [],
   "source": [
    "param_grid = {\"n_components\": range(1, 11), \"covariance_type\": [\"diag\"]}\n",
    "grid_search = GridSearchCV(GaussianMixture(max_iter=1000, n_init=1,random_state=1112), cv=5, param_grid=param_grid, scoring=gmm_bic_score)\n",
    "grid_search.fit(features_stand)\n",
    "\n",
    "cluster_labels = grid_search.predict(features_stand)\n",
    "\n",
    "df = pd.DataFrame(grid_search.cv_results_)[\n",
    "    [\"param_n_components\", \"param_covariance_type\", \"mean_test_score\"]\n",
    "]\n",
    "df[\"mean_test_score\"] = -df[\"mean_test_score\"]\n",
    "df = df.rename(\n",
    "    columns={\n",
    "        \"param_n_components\": \"Number of components\",\n",
    "        \"param_covariance_type\": \"Type of covariance\",\n",
    "        \"mean_test_score\": \"BIC score\",\n",
    "    }\n",
    ")\n",
    "df.sort_values(by=\"BIC score\").head()\n",
    "\n",
    "n_cluster_lowest_bic = len(np.unique(cluster_labels))"
   ]
  },
  {
   "cell_type": "markdown",
   "id": "convenient-electricity",
   "metadata": {},
   "source": [
    "# --------------------------------------------------------------------------------------------------------------------"
   ]
  },
  {
   "cell_type": "markdown",
   "id": "united-profile",
   "metadata": {},
   "source": [
    "## plot norm. BIC"
   ]
  },
  {
   "cell_type": "code",
   "execution_count": 23,
   "id": "opening-butler",
   "metadata": {
    "jupyter": {
     "source_hidden": true
    }
   },
   "outputs": [],
   "source": [
    "# normalize BIC\n",
    "bic = np.zeros(10)\n",
    "for i in range(1,11):\n",
    "    bic[i-1] = df[df['Number of components']==i]['BIC score'].min()\n",
    "bic = bic/bic.min()"
   ]
  },
  {
   "cell_type": "code",
   "execution_count": 24,
   "id": "expanded-sharp",
   "metadata": {
    "jupyter": {
     "source_hidden": true
    }
   },
   "outputs": [
    {
     "data": {
      "image/png": "[encoded data removed]",
      "text/plain": [
       "<Figure size 360x288 with 1 Axes>"
      ]
     },
     "metadata": {
      "image/png": {
       "height": 278,
       "width": 350
      }
     },
     "output_type": "display_data"
    }
   ],
   "source": [
    "fig, ax = plt.subplots(1,1,figsize=(5,4))\n",
    "ax.scatter(np.arange(1,10,1),bic[0:9],color='k',lw=2,marker='o',s=15)\n",
    "ax.plot(np.arange(1,10,1),bic[0:9],color='k',lw=1.2,ls='--')\n",
    "ax.set_xlabel('# of clusters',fontsize=12)\n",
    "ax.set_ylabel('norm.\\nBIC',fontsize=12)\n",
    "ax.set_xlim(0,10)\n",
    "ax.set_ylim(0.,6)\n",
    "\n",
    "ax.tick_params(axis='both', which='major', labelsize=12)\n",
    "ax.spines['left'].set_position(('outward', 10))\n",
    "ax.spines['bottom'].set_position(('outward', 10))\n",
    "for axis in ['bottom','left']:\n",
    "    ax.spines[axis].set_linewidth(1)\n",
    "sns.despine()\n",
    "fig.tight_layout()"
   ]
  }
 ],
 "metadata": {
  "kernelspec": {
   "display_name": "Python 3",
   "language": "python",
   "name": "python3"
  },
  "language_info": {
   "codemirror_mode": {
    "name": "ipython",
    "version": 3
   },
   "file_extension": ".py",
   "mimetype": "text/x-python",
   "name": "python",
   "nbconvert_exporter": "python",
   "pygments_lexer": "ipython3",
   "version": "3.7.5"
  }
 },
 "nbformat": 4,
 "nbformat_minor": 5
}
