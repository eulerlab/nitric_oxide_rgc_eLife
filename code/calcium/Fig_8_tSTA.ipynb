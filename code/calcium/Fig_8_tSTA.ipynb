{
 "cells": [
  {
   "cell_type": "markdown",
   "id": "packed-bracelet",
   "metadata": {},
   "source": [
    "# Fig. 8: MEA data analysis of G32"
   ]
  },
  {
   "cell_type": "markdown",
   "id": "royal-disability",
   "metadata": {},
   "source": [
    "# import"
   ]
  },
  {
   "cell_type": "code",
   "execution_count": 3,
   "id": "speaking-reserve",
   "metadata": {},
   "outputs": [
    {
     "name": "stdout",
     "output_type": "stream",
     "text": [
      "The autoreload extension is already loaded. To reload it, use:\n",
      "  %reload_ext autoreload\n"
     ]
    }
   ],
   "source": [
    "%config InlineBackend.figure_format = 'retina'\n",
    "%matplotlib inline\n",
    "%load_ext autoreload\n",
    "%autoreload 2\n",
    "import pickle5\n",
    "import numpy as np\n",
    "import seaborn as sns\n",
    "import pandas as pd\n",
    "import matplotlib.pyplot as plt "
   ]
  },
  {
   "cell_type": "markdown",
   "id": "statewide-demographic",
   "metadata": {},
   "source": [
    "## load data"
   ]
  },
  {
   "cell_type": "code",
   "execution_count": 4,
   "id": "ultimate-equilibrium",
   "metadata": {},
   "outputs": [],
   "source": [
    "file_path = 'ADD_YOUR_PATH_TO_DATA_HERE'\n",
    "\n",
    "with open(file_path+'/widths.pkl', 'rb') as handle:\n",
    "    tSTA_width = pickle5.load(handle)"
   ]
  },
  {
   "cell_type": "code",
   "execution_count": 5,
   "id": "distinct-elements",
   "metadata": {},
   "outputs": [
    {
     "data": {
      "text/plain": [
       "array([0.18794202, 0.16500557, 0.17558488, 0.13903983, 0.12516764,\n",
       "       0.13444919, 0.13492958, 0.12844713, 0.15137282, 0.19116724,\n",
       "       0.21205518, 0.31442065, 0.23886613])"
      ]
     },
     "execution_count": 5,
     "metadata": {},
     "output_type": "execute_result"
    }
   ],
   "source": [
    "tSTA_width[0]['c1']"
   ]
  },
  {
   "cell_type": "code",
   "execution_count": 6,
   "id": "rough-clone",
   "metadata": {},
   "outputs": [],
   "source": [
    "df_cluster1 = pd.DataFrame(tSTA_width[0])\n",
    "df_cluster2 = pd.DataFrame(tSTA_width[1])\n",
    "df_cluster3 = pd.DataFrame(tSTA_width[2])"
   ]
  },
  {
   "cell_type": "code",
   "execution_count": 7,
   "id": "annoying-export",
   "metadata": {},
   "outputs": [
    {
     "data": {
      "image/png": "[encoded data removed]",
      "text/plain": [
       "<Figure size 432x144 with 3 Axes>"
      ]
     },
     "metadata": {
      "image/png": {
       "height": 136,
       "width": 424
      },
      "needs_background": "light"
     },
     "output_type": "display_data"
    }
   ],
   "source": [
    "fig,ax=plt.subplots(1,3,figsize=(6,2),sharey=True)\n",
    "sns.boxplot(df_cluster1,ax=ax[0],width=0.3)\n",
    "sns.stripplot(df_cluster1,ax=ax[0],alpha=0.5,edgecolor='k')\n",
    "\n",
    "sns.boxplot(df_cluster2,ax=ax[1],width=0.3)\n",
    "sns.stripplot(df_cluster2,ax=ax[1],alpha=0.5,edgecolor='k')\n",
    "\n",
    "sns.boxplot(df_cluster3,ax=ax[2],width=0.3)\n",
    "sns.stripplot(df_cluster3,ax=ax[2],alpha=0.5,edgecolor='k')\n",
    "\n",
    "sns.despine()\n",
    "fig.tight_layout()"
   ]
  },
  {
   "cell_type": "markdown",
   "id": "egyptian-appraisal",
   "metadata": {},
   "source": [
    "# Perform ANOVA repeated measures"
   ]
  },
  {
   "cell_type": "code",
   "execution_count": 8,
   "id": "negative-bridal",
   "metadata": {},
   "outputs": [],
   "source": [
    "from statsmodels.stats.anova import AnovaRM"
   ]
  },
  {
   "cell_type": "code",
   "execution_count": 9,
   "id": "hawaiian-nerve",
   "metadata": {},
   "outputs": [],
   "source": [
    "cell_id_c1 = np.asarray([np.arange(1,tSTA_width[0]['c1'].shape[0]+1,1),np.arange(1,tSTA_width[0]['c1'].shape[0]+1,1),np.arange(1,tSTA_width[0]['c1'].shape[0]+1,1)]).flatten()\n",
    "cell_id_c2 = np.asarray([np.arange(1,tSTA_width[1]['c1'].shape[0]+1,1),np.arange(1,tSTA_width[1]['c1'].shape[0]+1,1),np.arange(1,tSTA_width[1]['c1'].shape[0]+1,1)]).flatten()\n",
    "cell_id_c3 = np.asarray([np.arange(1,tSTA_width[2]['c1'].shape[0]+1,1),np.arange(1,tSTA_width[2]['c1'].shape[0]+1,1),np.arange(1,tSTA_width[2]['c1'].shape[0]+1,1)]).flatten()"
   ]
  },
  {
   "cell_type": "code",
   "execution_count": 10,
   "id": "introductory-ambassador",
   "metadata": {},
   "outputs": [],
   "source": [
    "data_cluster1 = {\n",
    "  \"cell_id\":cell_id_c1,\n",
    "  \"width\": np.asarray([tSTA_width[0]['c1'],tSTA_width[0]['no'],tSTA_width[0]['wo']]).flatten(),\n",
    "  \"condition\": ['c1']*tSTA_width[0]['c1'].shape[0] + ['no']*tSTA_width[0]['c1'].shape[0] + ['wo']*tSTA_width[0]['c1'].shape[0]\n",
    "}\n",
    "\n",
    "data_cluster2 = {\n",
    "  \"cell_id\":cell_id_c2,\n",
    "  \"width\": np.asarray([tSTA_width[1]['c1'],tSTA_width[1]['no'],tSTA_width[1]['wo']]).flatten(),\n",
    "  \"condition\": ['c1']*tSTA_width[1]['c1'].shape[0] + ['no']*tSTA_width[1]['c1'].shape[0] + ['wo']*tSTA_width[1]['c1'].shape[0]\n",
    "}\n",
    "\n",
    "data_cluster3 = {\n",
    "  \"cell_id\":cell_id_c3,\n",
    "  \"width\": np.asarray([tSTA_width[2]['c1'],tSTA_width[2]['no'],tSTA_width[2]['wo']]).flatten(),\n",
    "  \"condition\": ['c1']*tSTA_width[2]['c1'].shape[0] + ['no']*tSTA_width[2]['c1'].shape[0] + ['wo']*tSTA_width[2]['c1'].shape[0]\n",
    "}"
   ]
  },
  {
   "cell_type": "code",
   "execution_count": 11,
   "id": "guided-validity",
   "metadata": {},
   "outputs": [],
   "source": [
    "df_cluster1 = pd.DataFrame(data_cluster1)\n",
    "df_cluster2 = pd.DataFrame(data_cluster2)\n",
    "df_cluster3 = pd.DataFrame(data_cluster3)"
   ]
  },
  {
   "cell_type": "code",
   "execution_count": 12,
   "id": "moderate-judge",
   "metadata": {},
   "outputs": [
    {
     "name": "stdout",
     "output_type": "stream",
     "text": [
      "                 Anova\n",
      "=======================================\n",
      "          F Value Num DF  Den DF Pr > F\n",
      "---------------------------------------\n",
      "condition  5.3849 2.0000 24.0000 0.0117\n",
      "=======================================\n",
      "\n"
     ]
    }
   ],
   "source": [
    "print(AnovaRM(data=df_cluster1, depvar='width', \n",
    "              subject='cell_id', within=['condition']).fit()) "
   ]
  },
  {
   "cell_type": "code",
   "execution_count": 13,
   "id": "decent-merchandise",
   "metadata": {},
   "outputs": [
    {
     "name": "stdout",
     "output_type": "stream",
     "text": [
      "                 Anova\n",
      "=======================================\n",
      "          F Value Num DF  Den DF Pr > F\n",
      "---------------------------------------\n",
      "condition 13.1920 2.0000 10.0000 0.0016\n",
      "=======================================\n",
      "\n"
     ]
    }
   ],
   "source": [
    "print(AnovaRM(data=df_cluster2, depvar='width', \n",
    "              subject='cell_id', within=['condition']).fit()) "
   ]
  },
  {
   "cell_type": "code",
   "execution_count": 14,
   "id": "convertible-tennessee",
   "metadata": {},
   "outputs": [
    {
     "name": "stdout",
     "output_type": "stream",
     "text": [
      "                 Anova\n",
      "=======================================\n",
      "          F Value Num DF  Den DF Pr > F\n",
      "---------------------------------------\n",
      "condition  8.3471 2.0000 20.0000 0.0023\n",
      "=======================================\n",
      "\n"
     ]
    }
   ],
   "source": [
    "print(AnovaRM(data=df_cluster3, depvar='width', \n",
    "              subject='cell_id', within=['condition']).fit()) "
   ]
  },
  {
   "cell_type": "markdown",
   "id": "allied-oriental",
   "metadata": {},
   "source": [
    "# Perform post-hoc Dunn's test"
   ]
  },
  {
   "cell_type": "code",
   "execution_count": 15,
   "id": "stunning-broadcast",
   "metadata": {},
   "outputs": [],
   "source": [
    "import scikit_posthocs as sp"
   ]
  },
  {
   "cell_type": "code",
   "execution_count": 16,
   "id": "placed-princeton",
   "metadata": {},
   "outputs": [],
   "source": [
    "data_cluster1 = [tSTA_width[0]['c1'], tSTA_width[0]['no'], tSTA_width[0]['wo']]\n",
    "dunn_results_cluster_1 = sp.posthoc_dunn(data_cluster1, p_adjust = 'bonferroni')\n",
    "\n",
    "data_cluster2 = [tSTA_width[1]['c1'], tSTA_width[1]['no'], tSTA_width[1]['wo']]\n",
    "dunn_results_cluster_2 = sp.posthoc_dunn(data_cluster2, p_adjust = 'bonferroni')\n",
    "\n",
    "data_cluster3 = [tSTA_width[2]['c1'], tSTA_width[2]['no'], tSTA_width[2]['wo']]\n",
    "dunn_results_cluster_3 = sp.posthoc_dunn(data_cluster3, p_adjust = 'bonferroni')"
   ]
  },
  {
   "cell_type": "code",
   "execution_count": 17,
   "id": "cathedral-kidney",
   "metadata": {},
   "outputs": [
    {
     "name": "stdout",
     "output_type": "stream",
     "text": [
      "Dunn's test\n",
      "--------------------------\n",
      "Cluster 1\n",
      "Ctrl vs. NO; p-value: 0.02680905838229468 -> sign_diff; *\n",
      "Ctrl vs. WO; p-value: 1.0 -> n.s.\n",
      "NO vs. WO; p-value: 0.02422766263685329 -> sign_diff, *\n"
     ]
    }
   ],
   "source": [
    "print(\"Dunn's test\")\n",
    "print('--------------------------')\n",
    "print('Cluster 1')\n",
    "print('Ctrl vs. NO; p-value: '+str(dunn_results_cluster_1.iloc[0,1])+' -> sign_diff; *')\n",
    "print('Ctrl vs. WO; p-value: '+str(dunn_results_cluster_1.iloc[0,2])+' -> n.s.')\n",
    "print('NO vs. WO; p-value: '+str(dunn_results_cluster_1.iloc[1,2])+' -> sign_diff, *')"
   ]
  },
  {
   "cell_type": "code",
   "execution_count": 18,
   "id": "numeric-nevada",
   "metadata": {},
   "outputs": [
    {
     "name": "stdout",
     "output_type": "stream",
     "text": [
      "Dunn's test\n",
      "--------------------------\n",
      "Cluster 2\n",
      "Ctrl vs. NO; p-value: 0.014777793306509395 -> sign_diff, *\n",
      "Ctrl vs. WO; p-value: 1.0 -> n.s.\n",
      "NO vs. WO; p-value: 0.00738208812406343 -> sign_diff, **\n"
     ]
    }
   ],
   "source": [
    "print(\"Dunn's test\")\n",
    "print('--------------------------')\n",
    "print('Cluster 2')\n",
    "print('Ctrl vs. NO; p-value: '+str(dunn_results_cluster_2.iloc[0,1])+' -> sign_diff, *')\n",
    "print('Ctrl vs. WO; p-value: '+str(dunn_results_cluster_2.iloc[0,2])+' -> n.s.')\n",
    "print('NO vs. WO; p-value: '+str(dunn_results_cluster_2.iloc[1,2])+' -> sign_diff, **')"
   ]
  },
  {
   "cell_type": "code",
   "execution_count": 19,
   "id": "peaceful-indication",
   "metadata": {},
   "outputs": [
    {
     "name": "stdout",
     "output_type": "stream",
     "text": [
      "Dunn's test\n",
      "--------------------------\n",
      "Cluster 3\n",
      "Ctrl vs. NO; p-value: 0.008136099251247579 -> sign_diff, **\n",
      "Ctrl vs. WO; p-value: 0.23324874673552665 -> n.s.\n",
      "NO vs. WO; p-value: 0.6507965741077923 -> n.s.\n"
     ]
    }
   ],
   "source": [
    "print(\"Dunn's test\")\n",
    "print('--------------------------')\n",
    "print('Cluster 3')\n",
    "print('Ctrl vs. NO; p-value: '+str(dunn_results_cluster_3.iloc[0,1])+' -> sign_diff, **')\n",
    "print('Ctrl vs. WO; p-value: '+str(dunn_results_cluster_3.iloc[0,2])+' -> n.s.')\n",
    "print('NO vs. WO; p-value: '+str(dunn_results_cluster_3.iloc[1,2])+' -> n.s.')"
   ]
  }
 ],
 "metadata": {
  "kernelspec": {
   "display_name": "Python 3",
   "language": "python",
   "name": "python3"
  },
  "language_info": {
   "codemirror_mode": {
    "name": "ipython",
    "version": 3
   },
   "file_extension": ".py",
   "mimetype": "text/x-python",
   "name": "python",
   "nbconvert_exporter": "python",
   "pygments_lexer": "ipython3",
   "version": "3.7.5"
  }
 },
 "nbformat": 4,
 "nbformat_minor": 5
}
