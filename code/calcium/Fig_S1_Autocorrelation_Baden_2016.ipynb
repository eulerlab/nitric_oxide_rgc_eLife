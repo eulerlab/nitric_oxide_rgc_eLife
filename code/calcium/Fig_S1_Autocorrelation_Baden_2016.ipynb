{
 "cells": [
  {
   "cell_type": "markdown",
   "id": "chief-exchange",
   "metadata": {},
   "source": [
    "# Figure S1: Autocorrelation matrix of Baden et al. (2016) dataset"
   ]
  },
  {
   "cell_type": "markdown",
   "id": "posted-illness",
   "metadata": {},
   "source": [
    "# import"
   ]
  },
  {
   "cell_type": "code",
   "execution_count": 1,
   "id": "headed-production",
   "metadata": {
    "jupyter": {
     "source_hidden": true
    }
   },
   "outputs": [],
   "source": [
    "%config InlineBackend.figure_format = 'retina'\n",
    "%matplotlib inline\n",
    "%load_ext autoreload\n",
    "%autoreload 2\n",
    "import pickle\n",
    "import numpy as np\n",
    "import seaborn as sns\n",
    "import matplotlib.pyplot as plt \n",
    "import matplotlib.patches as patches"
   ]
  },
  {
   "cell_type": "markdown",
   "id": "guided-wesley",
   "metadata": {},
   "source": [
    "# Load data"
   ]
  },
  {
   "cell_type": "code",
   "execution_count": 2,
   "id": "billion-incidence",
   "metadata": {},
   "outputs": [],
   "source": [
    "file_path = 'ADD_YOUR_PATH_TO_DATA_HERE'\n",
    "    \n",
    "# Baden et al. (2016)\n",
    "with open(file_path+'/rgc_baden.pickle', 'rb') as handle:\n",
    "    rgc_baden = pickle.load(handle)"
   ]
  },
  {
   "cell_type": "markdown",
   "id": "residential-motor",
   "metadata": {},
   "source": [
    "# --------------------------------------------------------------------------------------------------------------------"
   ]
  },
  {
   "cell_type": "code",
   "execution_count": 3,
   "id": "floppy-macro",
   "metadata": {
    "jupyter": {
     "source_hidden": true
    }
   },
   "outputs": [],
   "source": [
    "corrcoeff_baden_chirp = np.zeros((32,32))\n",
    "corrcoeff_baden_bar = np.zeros((32,32))\n",
    "for i in range(32):\n",
    "    for j in range(32):        \n",
    "        corrcoeff_baden_chirp[i,j] = np.corrcoef(np.mean(rgc_baden['chirp'][rgc_baden['label'].flatten()==j+1],axis=0),np.mean(rgc_baden['chirp'][rgc_baden['label'].flatten()==i+1],axis=0))[0,1]\n",
    "        corrcoeff_baden_bar[i,j] = np.corrcoef(np.mean(rgc_baden['bar'][rgc_baden['label'].flatten()==j+1],axis=0),np.mean(rgc_baden['bar'][rgc_baden['label'].flatten()==i+1],axis=0))[0,1]"
   ]
  },
  {
   "cell_type": "code",
   "execution_count": 4,
   "id": "catholic-input",
   "metadata": {
    "jupyter": {
     "source_hidden": true
    }
   },
   "outputs": [
    {
     "data": {
      "image/png": "[encoded data removed]",
      "text/plain": [
       "<Figure size 360x216 with 3 Axes>"
      ]
     },
     "metadata": {
      "image/png": {
       "height": 162,
       "width": 338
      },
      "needs_background": "light"
     },
     "output_type": "display_data"
    }
   ],
   "source": [
    "off_rect = patches.Rectangle((-0.5,-0.5), 9, 9, linewidth=1.5, edgecolor='k', facecolor='none',ls='--')\n",
    "on_off_rect = patches.Rectangle((8.5,8.5), 5,5, linewidth=1.5, edgecolor='k', facecolor='none',ls='--')\n",
    "fast_on_rect = patches.Rectangle((13.5,13.5), 6,6, linewidth=1.5, edgecolor='k', facecolor='none',ls='--')\n",
    "slow_on_rect = patches.Rectangle((19.5,19.5), 8,8, linewidth=1.5, edgecolor='k', facecolor='none',ls='--')\n",
    "unc_rgc_rect = patches.Rectangle((27.5,27.5), 4,4, linewidth=1.5, edgecolor='k', facecolor='none',ls='--')\n",
    "\n",
    "fig,ax=plt.subplots(1,2,figsize=(5,3))\n",
    "cax = ax[0].imshow(corrcoeff_baden_chirp,cmap='coolwarm',vmin=-1,vmax=1)\n",
    "ax[0].add_patch(off_rect)\n",
    "ax[0].add_patch(on_off_rect)\n",
    "ax[0].add_patch(fast_on_rect)\n",
    "ax[0].add_patch(slow_on_rect)\n",
    "ax[0].add_patch(unc_rgc_rect)\n",
    "#ax[0].set_xticks([])\n",
    "#ax[0].set_yticks([])\n",
    "\n",
    "off_rect = patches.Rectangle((-0.5,-0.5), 9, 9, linewidth=1.5, edgecolor='k', facecolor='none',ls='--')\n",
    "on_off_rect = patches.Rectangle((8.5,8.5), 5,5, linewidth=1.5, edgecolor='k', facecolor='none',ls='--')\n",
    "fast_on_rect = patches.Rectangle((13.5,13.5), 6,6, linewidth=1.5, edgecolor='k', facecolor='none',ls='--')\n",
    "slow_on_rect = patches.Rectangle((19.5,19.5), 8,8, linewidth=1.5, edgecolor='k', facecolor='none',ls='--')\n",
    "unc_rgc_rect = patches.Rectangle((27.5,27.5), 4,4, linewidth=1.5, edgecolor='k', facecolor='none',ls='--')\n",
    "cax = ax[1].imshow(corrcoeff_baden_bar,cmap='coolwarm',vmin=-1,vmax=1)\n",
    "ax[1].add_patch(off_rect)\n",
    "ax[1].add_patch(on_off_rect)\n",
    "ax[1].add_patch(fast_on_rect)\n",
    "ax[1].add_patch(slow_on_rect)\n",
    "ax[1].add_patch(unc_rgc_rect)\n",
    "#ax[1].set_xticks([])\n",
    "#ax[1].set_yticks([])\n",
    "\n",
    "fig.subplots_adjust(right=0.85)\n",
    "cbar_ax = fig.add_axes([0.88, 0.126, 0.03, 0.1])\n",
    "cbar = fig.colorbar(cax, cax=cbar_ax, shrink=0.99)"
   ]
  }
 ],
 "metadata": {
  "kernelspec": {
   "display_name": "Python 3",
   "language": "python",
   "name": "python3"
  },
  "language_info": {
   "codemirror_mode": {
    "name": "ipython",
    "version": 3
   },
   "file_extension": ".py",
   "mimetype": "text/x-python",
   "name": "python",
   "nbconvert_exporter": "python",
   "pygments_lexer": "ipython3",
   "version": "3.7.5"
  }
 },
 "nbformat": 4,
 "nbformat_minor": 5
}
