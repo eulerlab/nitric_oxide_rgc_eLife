{
 "cells": [
  {
   "cell_type": "markdown",
   "id": "rubber-block",
   "metadata": {},
   "source": [
    "# Figure 6: Spatial receptive fields"
   ]
  },
  {
   "cell_type": "markdown",
   "id": "numerous-philip",
   "metadata": {},
   "source": [
    "# import"
   ]
  },
  {
   "cell_type": "code",
   "execution_count": 1,
   "id": "generic-institution",
   "metadata": {},
   "outputs": [],
   "source": [
    "%config InlineBackend.figure_format = 'retina'\n",
    "%matplotlib inline\n",
    "%load_ext autoreload\n",
    "%autoreload 2\n",
    "import pickle5 as pickle\n",
    "import numpy as np\n",
    "import seaborn as sns\n",
    "import pandas as pd\n",
    "import matplotlib.pyplot as plt "
   ]
  },
  {
   "cell_type": "markdown",
   "id": "harmful-audio",
   "metadata": {},
   "source": [
    "# Load data"
   ]
  },
  {
   "cell_type": "code",
   "execution_count": 4,
   "id": "collectible-savings",
   "metadata": {},
   "outputs": [],
   "source": [
    "import pandas as pd\n",
    "df = pd.read_pickle('ADD_YOUR_PATH_TO_DATA_HERE/df_rfs.pkl')"
   ]
  },
  {
   "cell_type": "code",
   "execution_count": 294,
   "id": "protecting-facial",
   "metadata": {},
   "outputs": [
    {
     "data": {
      "text/plain": [
       "Index(['experimenter', 'date', 'exp_num', 'field', 'stim_name', 'raw_id',\n",
       "       'condition', 'roi_id', 'preprocess_id', 'dnoise_params_id',\n",
       "       'sta_params_id', 'split_rf_params_id', 'training_data_hash',\n",
       "       'classifier_params_hash', 'condition2', 'srf', 'trf', 'split_qidx',\n",
       "       'trf_peak_idxs', 'srf_fit', 'srf_center_fit', 'srf_surround_fit',\n",
       "       'srf_params', 'srf_eff_center', 'rf_qidx', 'rf_area_um2', 'rf_cdia_um',\n",
       "       'center_index', 'surround_index', 'celltype', 'max_confidence',\n",
       "       'confidence', 'preproc_chirp', 'preproc_bar', 'srf2', 'trf2',\n",
       "       'split_qidx2', 'trf_peak_idxs2', 'srf_params2', 'rf_qidx_2',\n",
       "       'rf_cdia_um_2', 'center_index2', 'surround_index2', 'dia_diff',\n",
       "       'surround_index_diff'],\n",
       "      dtype='object')"
      ]
     },
     "execution_count": 294,
     "metadata": {},
     "output_type": "execute_result"
    }
   ],
   "source": [
    "df.keys()"
   ]
  },
  {
   "cell_type": "code",
   "execution_count": 6,
   "id": "widespread-commissioner",
   "metadata": {},
   "outputs": [
    {
     "name": "stdout",
     "output_type": "stream",
     "text": [
      "1727\n",
      "615\n",
      "468\n"
     ]
    },
    {
     "data": {
      "text/html": [
       "<div>\n",
       "<style scoped>\n",
       "    .dataframe tbody tr th:only-of-type {\n",
       "        vertical-align: middle;\n",
       "    }\n",
       "\n",
       "    .dataframe tbody tr th {\n",
       "        vertical-align: top;\n",
       "    }\n",
       "\n",
       "    .dataframe thead th {\n",
       "        text-align: right;\n",
       "    }\n",
       "</style>\n",
       "<table border=\"1\" class=\"dataframe\">\n",
       "  <thead>\n",
       "    <tr style=\"text-align: right;\">\n",
       "      <th></th>\n",
       "      <th>experimenter</th>\n",
       "      <th>date</th>\n",
       "      <th>exp_num</th>\n",
       "      <th>field</th>\n",
       "      <th>stim_name</th>\n",
       "      <th>raw_id</th>\n",
       "      <th>condition</th>\n",
       "      <th>roi_id</th>\n",
       "      <th>preprocess_id</th>\n",
       "      <th>dnoise_params_id</th>\n",
       "      <th>...</th>\n",
       "      <th>trf2</th>\n",
       "      <th>split_qidx2</th>\n",
       "      <th>trf_peak_idxs2</th>\n",
       "      <th>srf_params2</th>\n",
       "      <th>rf_qidx_2</th>\n",
       "      <th>rf_cdia_um_2</th>\n",
       "      <th>center_index2</th>\n",
       "      <th>surround_index2</th>\n",
       "      <th>dia_diff</th>\n",
       "      <th>surround_index_diff</th>\n",
       "    </tr>\n",
       "  </thead>\n",
       "  <tbody>\n",
       "    <tr>\n",
       "      <th>14</th>\n",
       "      <td>Arlinghaus</td>\n",
       "      <td>2022-06-10</td>\n",
       "      <td>2</td>\n",
       "      <td>GCL0</td>\n",
       "      <td>noise</td>\n",
       "      <td>1</td>\n",
       "      <td>C1</td>\n",
       "      <td>3</td>\n",
       "      <td>1</td>\n",
       "      <td>1</td>\n",
       "      <td>...</td>\n",
       "      <td>[0.20204984, 0.27117282, 0.14933422, -0.054278...</td>\n",
       "      <td>-0.063955</td>\n",
       "      <td>[8, 11]</td>\n",
       "      <td>{'amplitude_0': -0.3080397741900187, 'x_mean_0...</td>\n",
       "      <td>0.498547</td>\n",
       "      <td>206.947</td>\n",
       "      <td>-0.262292</td>\n",
       "      <td>0.117894</td>\n",
       "      <td>-17.706</td>\n",
       "      <td>0.212496</td>\n",
       "    </tr>\n",
       "    <tr>\n",
       "      <th>20</th>\n",
       "      <td>Arlinghaus</td>\n",
       "      <td>2022-06-10</td>\n",
       "      <td>2</td>\n",
       "      <td>GCL0</td>\n",
       "      <td>noise</td>\n",
       "      <td>1</td>\n",
       "      <td>C1</td>\n",
       "      <td>20</td>\n",
       "      <td>1</td>\n",
       "      <td>1</td>\n",
       "      <td>...</td>\n",
       "      <td>[0.04871478, 0.046366762, 0.05901878, 0.033445...</td>\n",
       "      <td>0.068434</td>\n",
       "      <td>[7, 11]</td>\n",
       "      <td>{'amplitude_0': -0.40689455838785715, 'x_mean_...</td>\n",
       "      <td>0.642601</td>\n",
       "      <td>176.028</td>\n",
       "      <td>-0.281347</td>\n",
       "      <td>0.211206</td>\n",
       "      <td>-30.195</td>\n",
       "      <td>0.110210</td>\n",
       "    </tr>\n",
       "    <tr>\n",
       "      <th>24</th>\n",
       "      <td>Arlinghaus</td>\n",
       "      <td>2022-06-10</td>\n",
       "      <td>2</td>\n",
       "      <td>GCL0</td>\n",
       "      <td>noise</td>\n",
       "      <td>1</td>\n",
       "      <td>C1</td>\n",
       "      <td>30</td>\n",
       "      <td>1</td>\n",
       "      <td>1</td>\n",
       "      <td>...</td>\n",
       "      <td>[0.03563478, 0.04851507, -0.006033437, -0.1903...</td>\n",
       "      <td>-0.126491</td>\n",
       "      <td>[8, 11]</td>\n",
       "      <td>{'amplitude_0': -0.1990592353746325, 'x_mean_0...</td>\n",
       "      <td>0.461977</td>\n",
       "      <td>328.333</td>\n",
       "      <td>-0.403514</td>\n",
       "      <td>-0.055423</td>\n",
       "      <td>-23.101</td>\n",
       "      <td>0.427960</td>\n",
       "    </tr>\n",
       "    <tr>\n",
       "      <th>29</th>\n",
       "      <td>Arlinghaus</td>\n",
       "      <td>2022-06-10</td>\n",
       "      <td>2</td>\n",
       "      <td>GCL0</td>\n",
       "      <td>noise</td>\n",
       "      <td>1</td>\n",
       "      <td>C1</td>\n",
       "      <td>45</td>\n",
       "      <td>1</td>\n",
       "      <td>1</td>\n",
       "      <td>...</td>\n",
       "      <td>[0.14922825, 0.11570152, 0.10135669, 0.1112001...</td>\n",
       "      <td>-0.070206</td>\n",
       "      <td>[8, 11]</td>\n",
       "      <td>{'amplitude_0': -0.3587665042725091, 'x_mean_0...</td>\n",
       "      <td>0.636731</td>\n",
       "      <td>198.440</td>\n",
       "      <td>-0.289041</td>\n",
       "      <td>0.212704</td>\n",
       "      <td>NaN</td>\n",
       "      <td>NaN</td>\n",
       "    </tr>\n",
       "    <tr>\n",
       "      <th>33</th>\n",
       "      <td>Arlinghaus</td>\n",
       "      <td>2022-06-10</td>\n",
       "      <td>2</td>\n",
       "      <td>GCL0</td>\n",
       "      <td>noise</td>\n",
       "      <td>1</td>\n",
       "      <td>C1</td>\n",
       "      <td>55</td>\n",
       "      <td>1</td>\n",
       "      <td>1</td>\n",
       "      <td>...</td>\n",
       "      <td>[0.033454068, 0.02542036, -0.06906682, -0.1260...</td>\n",
       "      <td>-0.055510</td>\n",
       "      <td>[7, 10]</td>\n",
       "      <td>{'amplitude_0': -0.31232307874597737, 'x_mean_...</td>\n",
       "      <td>0.671672</td>\n",
       "      <td>241.609</td>\n",
       "      <td>-0.404587</td>\n",
       "      <td>-0.056591</td>\n",
       "      <td>-73.358</td>\n",
       "      <td>0.094916</td>\n",
       "    </tr>\n",
       "  </tbody>\n",
       "</table>\n",
       "<p>5 rows × 45 columns</p>\n",
       "</div>"
      ],
      "text/plain": [
       "   experimenter        date  exp_num field stim_name  raw_id condition  \\\n",
       "14   Arlinghaus  2022-06-10        2  GCL0     noise       1        C1   \n",
       "20   Arlinghaus  2022-06-10        2  GCL0     noise       1        C1   \n",
       "24   Arlinghaus  2022-06-10        2  GCL0     noise       1        C1   \n",
       "29   Arlinghaus  2022-06-10        2  GCL0     noise       1        C1   \n",
       "33   Arlinghaus  2022-06-10        2  GCL0     noise       1        C1   \n",
       "\n",
       "    roi_id  preprocess_id  dnoise_params_id  ...  \\\n",
       "14       3              1                 1  ...   \n",
       "20      20              1                 1  ...   \n",
       "24      30              1                 1  ...   \n",
       "29      45              1                 1  ...   \n",
       "33      55              1                 1  ...   \n",
       "\n",
       "                                                 trf2  split_qidx2  \\\n",
       "14  [0.20204984, 0.27117282, 0.14933422, -0.054278...    -0.063955   \n",
       "20  [0.04871478, 0.046366762, 0.05901878, 0.033445...     0.068434   \n",
       "24  [0.03563478, 0.04851507, -0.006033437, -0.1903...    -0.126491   \n",
       "29  [0.14922825, 0.11570152, 0.10135669, 0.1112001...    -0.070206   \n",
       "33  [0.033454068, 0.02542036, -0.06906682, -0.1260...    -0.055510   \n",
       "\n",
       "   trf_peak_idxs2                                        srf_params2  \\\n",
       "14        [8, 11]  {'amplitude_0': -0.3080397741900187, 'x_mean_0...   \n",
       "20        [7, 11]  {'amplitude_0': -0.40689455838785715, 'x_mean_...   \n",
       "24        [8, 11]  {'amplitude_0': -0.1990592353746325, 'x_mean_0...   \n",
       "29        [8, 11]  {'amplitude_0': -0.3587665042725091, 'x_mean_0...   \n",
       "33        [7, 10]  {'amplitude_0': -0.31232307874597737, 'x_mean_...   \n",
       "\n",
       "   rf_qidx_2 rf_cdia_um_2 center_index2  surround_index2 dia_diff  \\\n",
       "14  0.498547      206.947     -0.262292         0.117894  -17.706   \n",
       "20  0.642601      176.028     -0.281347         0.211206  -30.195   \n",
       "24  0.461977      328.333     -0.403514        -0.055423  -23.101   \n",
       "29  0.636731      198.440     -0.289041         0.212704      NaN   \n",
       "33  0.671672      241.609     -0.404587        -0.056591  -73.358   \n",
       "\n",
       "   surround_index_diff  \n",
       "14            0.212496  \n",
       "20            0.110210  \n",
       "24            0.427960  \n",
       "29                 NaN  \n",
       "33            0.094916  \n",
       "\n",
       "[5 rows x 45 columns]"
      ]
     },
     "execution_count": 6,
     "metadata": {},
     "output_type": "execute_result"
    }
   ],
   "source": [
    "df_plot = df.copy()\n",
    "print(len(df_plot))\n",
    "df_plot = df_plot[(df_plot.rf_qidx >= 0.) & (df_plot.rf_qidx_2 >= 0.45)]\n",
    "print(len(df_plot))\n",
    "df_plot = df_plot.groupby([\"celltype\", 'condition2']).filter(lambda x: len(x) >= 10)\n",
    "print(len(df_plot))\n",
    "df_plot.head()"
   ]
  },
  {
   "cell_type": "code",
   "execution_count": 8,
   "id": "departmental-conservative",
   "metadata": {},
   "outputs": [],
   "source": [
    "from matplotlib.patches import Ellipse\n",
    "\n",
    "def plot_srf(ax, srf=None, vabsmax=None, srf_params=None, n_std=2, color='k', **kwargs):\n",
    "    # Plot Fit.\n",
    "    if srf_params is not None:\n",
    "        ax.plot(srf_params['x_mean_0'], srf_params['y_mean_0'], zorder=100, marker='x', ms=3, c=color, **kwargs)\n",
    "        ax.add_patch(Ellipse(\n",
    "            xy=(srf_params['x_mean_0'], srf_params['y_mean_0']),\n",
    "            width=n_std*2*srf_params['x_stddev_0'],\n",
    "            height=n_std*2*srf_params['y_stddev_0'],\n",
    "            angle=np.rad2deg(srf_params['theta_0']), color=color, fill=False, **kwargs))\n",
    "        \n",
    "    if srf is not None:\n",
    "        ax.imshow(srf, vmin=-vabsmax, vmax=vabsmax, cmap='coolwarm', zorder=0)    "
   ]
  },
  {
   "cell_type": "markdown",
   "id": "marked-departure",
   "metadata": {},
   "source": [
    "# Figure"
   ]
  },
  {
   "cell_type": "code",
   "execution_count": 32,
   "id": "major-convention",
   "metadata": {},
   "outputs": [],
   "source": [
    "df_only_D = df_plot[(df_plot.condition2=='D')]"
   ]
  },
  {
   "cell_type": "code",
   "execution_count": 167,
   "id": "guided-beginning",
   "metadata": {},
   "outputs": [],
   "source": [
    "from IPython.display import clear_output"
   ]
  },
  {
   "cell_type": "code",
   "execution_count": 248,
   "id": "equivalent-jonathan",
   "metadata": {
    "jupyter": {
     "source_hidden": true
    }
   },
   "outputs": [],
   "source": [
    "def validate_STA(example):\n",
    "\n",
    "    fig,ax=plt.subplots(1,2,figsize=(6,3))\n",
    "\n",
    "    vabsmax = np.maximum(np.max(np.abs(example.srf)), np.max(np.abs(example.srf2)))\n",
    "    plot_srf(ax[0], srf_params=example.srf_params2, color='gray', ls='--')\n",
    "    plot_srf(ax[0], srf=example.srf, vabsmax=vabsmax, srf_params=example.srf_params)\n",
    "    ax[0].set(xticks=[], yticks=[])\n",
    "    ax[0].set_title('Ctrl',fontsize=10)\n",
    "\n",
    "    plot_srf(ax[1], srf_params=example.srf_params, color='gray', ls='--')\n",
    "    plot_srf(ax[1], srf=example.srf2, vabsmax=vabsmax, srf_params=example.srf_params2)\n",
    "    ax[1].set(xticks=[], yticks=[])\n",
    "    ax[1].set_title('DETA/NO',fontsize=10)\n",
    "    \n",
    "    fig.suptitle('G'+str(example.celltype),y=1.02)\n",
    "    \n",
    "    plt.show()\n",
    "\n",
    "    clear_output(wait=True)\n",
    "    user_input = input()\n",
    "    if user_input == '1':\n",
    "        result = 1\n",
    "    elif user_input == '0':\n",
    "        result = -1\n",
    "    else:\n",
    "        print('Try again', end='\\r')\n",
    "        result = validate_STA(example)\n",
    "\n",
    "    return result"
   ]
  },
  {
   "cell_type": "code",
   "execution_count": 249,
   "id": "otherwise-cornwall",
   "metadata": {},
   "outputs": [
    {
     "name": "stdin",
     "output_type": "stream",
     "text": [
      " 0\n"
     ]
    }
   ],
   "source": [
    "cells_good_fit_2 = []\n",
    "print('Press 1 to validate the ellipse, 0 to discard it.')\n",
    "i_cell = 0\n",
    "for cell_nb in range(len(df_only_D)):\n",
    "    result = validate_STA(df_only_D.iloc[cell_nb])\n",
    "    if result == 1:\n",
    "        cells_good_fit_2 += [cell_nb]\n",
    "    else:\n",
    "        pass"
   ]
  },
  {
   "cell_type": "markdown",
   "id": "fleet-daughter",
   "metadata": {},
   "source": [
    "### define new dataframe containing only selected cells"
   ]
  },
  {
   "cell_type": "code",
   "execution_count": 251,
   "id": "fatal-boating",
   "metadata": {},
   "outputs": [],
   "source": [
    "df_good_fits_rfs = df_only_D.iloc[cells_good_fit_2]"
   ]
  },
  {
   "cell_type": "markdown",
   "id": "american-channel",
   "metadata": {},
   "source": [
    "### reject types with <5 cells"
   ]
  },
  {
   "cell_type": "code",
   "execution_count": 256,
   "id": "correct-pencil",
   "metadata": {},
   "outputs": [],
   "source": [
    "df_good_fits_rfs_filtered = df_good_fits_rfs.groupby([\"celltype\", 'condition2']).filter(lambda x: len(x) >= 5)"
   ]
  },
  {
   "cell_type": "code",
   "execution_count": 257,
   "id": "sixth-lawrence",
   "metadata": {},
   "outputs": [],
   "source": [
    "# compute diameter difference in percentage\n",
    "dia_diff_perc = np.zeros(len(df_good_fits_rfs_filtered))\n",
    "for i in range(len(df_good_fits_rfs_filtered)):\n",
    "    dia_diff_perc[i] = (df_good_fits_rfs_filtered.rf_cdia_um_2.iloc[i] - df_good_fits_rfs_filtered.rf_cdia_um.iloc[i])/np.maximum(df_good_fits_rfs_filtered.rf_cdia_um_2.iloc[i], df_good_fits_rfs_filtered.rf_cdia_um.iloc[i])*100"
   ]
  },
  {
   "cell_type": "code",
   "execution_count": 258,
   "id": "vital-thought",
   "metadata": {},
   "outputs": [],
   "source": [
    "df_good_fits_rfs_filtered['dia_diff_perc'] = dia_diff_perc"
   ]
  },
  {
   "cell_type": "code",
   "execution_count": 272,
   "id": "intimate-louis",
   "metadata": {
    "jupyter": {
     "source_hidden": true
    },
    "tags": []
   },
   "outputs": [
    {
     "data": {
      "image/png": "[encoded data removed]",
      "text/plain": [
       "<Figure size 600x350 with 14 Axes>"
      ]
     },
     "metadata": {},
     "output_type": "display_data"
    }
   ],
   "source": [
    "c_type_1 = 5\n",
    "c_type_2 = 11\n",
    "c_type_3 = 17\n",
    "c_type_4 = 24\n",
    "c_type_5 = 31\n",
    "c_type_6 = 32\n",
    "\n",
    "\n",
    "fig = plt.figure(constrained_layout=True,figsize=(6,3.5))\n",
    "ax = fig.subplot_mosaic(\n",
    "    \"\"\"\n",
    "    CDEFGH\n",
    "    IJKLMN\n",
    "    AAABBB\n",
    "    \"\"\")\n",
    "\n",
    "sns.boxplot(ax=ax['A'], \n",
    "            data=df_good_fits_rfs_filtered, \n",
    "            y=\"dia_diff_perc\", \n",
    "            x=\"celltype\", \n",
    "            hue='condition2',\n",
    "            linewidth=.9,\n",
    "            boxprops=dict(alpha=.9),\n",
    "            fliersize=0.2,\n",
    "            width=0.7,\n",
    "            zorder=1,\n",
    "            palette=dict(D='forestgreen'))\n",
    "\n",
    "sns.stripplot(ax=ax['A'], \n",
    "            data=df_good_fits_rfs_filtered, \n",
    "            y=\"dia_diff_perc\", \n",
    "            x=\"celltype\", \n",
    "            hue='condition2',\n",
    "            palette=dict(D='black'),\n",
    "            edgecolor='gray',\n",
    "            size=1,\n",
    "            zorder=2,\n",
    "            alpha=0.5,\n",
    "            linewidth=1)\n",
    "\n",
    "\n",
    "ax['A'].legend([],frameon=False)   \n",
    "ax['A'].set_ylabel('\\u0394 RF\\ndiameter [%]',fontsize=8)\n",
    "ax['A'].set_xlabel('Cell Type',fontsize=8)\n",
    "ax['A'].axhline(0,lw=0.5,ls='--',color='k')\n",
    "ax['A'].tick_params(axis='both', which='major', labelsize=8)\n",
    "ax['A'].set_xticklabels(ax['A'].get_xticklabels(), rotation=45)\n",
    "ax['A'].set_ylim(-50,50)\n",
    "\n",
    "\n",
    "sns.boxplot(ax=ax['B'], \n",
    "            data=df_good_fits_rfs_filtered, \n",
    "            y=\"surround_index_diff\", \n",
    "            x=\"celltype\", \n",
    "            hue='condition2',\n",
    "            linewidth=.9,\n",
    "            boxprops=dict(alpha=.9),\n",
    "            fliersize=0.2,\n",
    "            width=0.7,\n",
    "            zorder=1,\n",
    "            palette=dict(D='forestgreen'))\n",
    "\n",
    "\n",
    "sns.stripplot(ax=ax['B'], \n",
    "            data=df_good_fits_rfs_filtered, \n",
    "            y=\"surround_index_diff\", \n",
    "            x=\"celltype\", \n",
    "            hue='condition2',\n",
    "            palette=dict(D='black'),\n",
    "            edgecolor='gray',\n",
    "            size=1,\n",
    "            zorder=2,\n",
    "            alpha=0.5,\n",
    "            linewidth=1)\n",
    "\n",
    "ax['B'].legend([],frameon=False)   \n",
    "ax['B'].set_ylabel('\\u0394 Surround\\nIndex',fontsize=8)\n",
    "ax['B'].set_xlabel('Cell Type',fontsize=8)\n",
    "ax['B'].axhline(0,lw=0.5,ls='--',color='k')\n",
    "ax['B'].tick_params(axis='both', which='major', labelsize=8)\n",
    "ax['B'].set_xticklabels(ax['A'].get_xticklabels(), rotation=45)\n",
    "ax['B'].set_ylim(-1,1)\n",
    "\n",
    "### example RFs\n",
    "\n",
    "##### Example 1\n",
    "\n",
    "example_1 = df_good_fits_rfs_filtered[df_good_fits_rfs_filtered['celltype']==c_type_1].iloc[0]\n",
    "vabsmax = np.maximum(np.max(np.abs(example_1.srf)), np.max(np.abs(example_1.srf2)))\n",
    "plot_srf(ax['C'], srf_params=example_1.srf_params2, color='gray', ls='--')\n",
    "plot_srf(ax['C'], srf=example_1.srf, vabsmax=vabsmax, srf_params=example_1.srf_params)\n",
    "ax['C'].set(xticks=[], yticks=[])\n",
    "ax['C'].set(xlabel=f'd={example_1.rf_cdia_um:.1f}')\n",
    "ax['C'].set_title('G$_{'+str(c_type_1)+'}$',fontsize=10)\n",
    "\n",
    "plot_srf(ax['I'], srf_params=example_1.srf_params, color='gray', ls='--')\n",
    "plot_srf(ax['I'], srf=example_1.srf2, vabsmax=vabsmax, srf_params=example_1.srf_params2)\n",
    "ax['I'].set(xticks=[], yticks=[])\n",
    "diff = example_1.rf_cdia_um_2 - example_1.rf_cdia_um\n",
    "ax['I'].set(xticks=[], yticks=[])\n",
    "ax['I'].set(xlabel=f'd={example_1.rf_cdia_um_2:.1f}\\n'+ fr'={diff/np.maximum(example_1.rf_cdia_um, example_1.rf_cdia_um_2):.0%}')\n",
    "\n",
    "##### Example 2\n",
    "\n",
    "example_2 = df_good_fits_rfs_filtered[df_good_fits_rfs_filtered['celltype']==c_type_2].iloc[1]\n",
    "vabsmax = np.maximum(np.max(np.abs(example_2.srf)), np.max(np.abs(example_2.srf2)))\n",
    "plot_srf(ax['D'], srf_params=example_2.srf_params2, color='gray', ls='--')\n",
    "plot_srf(ax['D'], srf=example_2.srf, vabsmax=vabsmax, srf_params=example_2.srf_params)\n",
    "ax['D'].set(xlabel=f'd={example_2.rf_cdia_um:.1f}')\n",
    "ax['D'].set(xticks=[], yticks=[])\n",
    "ax['D'].set_title('G$_{'+str(c_type_2)+'}$',fontsize=10)\n",
    "\n",
    "plot_srf(ax['J'], srf_params=example_2.srf_params, color='gray', ls='--')\n",
    "plot_srf(ax['J'], srf=example_2.srf2, vabsmax=vabsmax, srf_params=example_2.srf_params2)\n",
    "ax['J'].set(xticks=[], yticks=[])\n",
    "diff = example_2.rf_cdia_um_2 - example_2.rf_cdia_um\n",
    "ax['J'].set(xticks=[], yticks=[])\n",
    "ax['J'].set(xlabel=f'd={example_2.rf_cdia_um_2:.1f}\\n'+ fr'={diff/np.maximum(example_2.rf_cdia_um, example_2.rf_cdia_um_2):.0%}')\n",
    "\n",
    "##### Example 3\n",
    "\n",
    "example_3 = df_good_fits_rfs_filtered[df_good_fits_rfs_filtered['celltype']==c_type_3].iloc[0]\n",
    "vabsmax = np.maximum(np.max(np.abs(example_3.srf)), np.max(np.abs(example_3.srf2)))\n",
    "plot_srf(ax['E'], srf_params=example_3.srf_params2, color='gray', ls='--')\n",
    "plot_srf(ax['E'], srf=example_3.srf, vabsmax=vabsmax, srf_params=example_3.srf_params)\n",
    "ax['E'].set(xlabel=f'd={example_3.rf_cdia_um:.1f}')\n",
    "ax['E'].set(xticks=[], yticks=[])\n",
    "ax['E'].set_title('G$_{'+str(c_type_3)+'}$',fontsize=10)\n",
    "\n",
    "plot_srf(ax['K'], srf_params=example_3.srf_params, color='gray', ls='--')\n",
    "plot_srf(ax['K'], srf=example_3.srf2, vabsmax=vabsmax, srf_params=example_3.srf_params2)\n",
    "ax['K'].set(xticks=[], yticks=[])\n",
    "diff = example_3.rf_cdia_um_2 - example_3.rf_cdia_um\n",
    "ax['K'].set(xticks=[], yticks=[])\n",
    "ax['K'].set(xlabel=f'd={example_3.rf_cdia_um_2:.1f}\\n'+ fr'={diff/np.maximum(example_3.rf_cdia_um, example_3.rf_cdia_um_2):.0%}')\n",
    "\n",
    "##### Example 4\n",
    "\n",
    "example_4 = df_good_fits_rfs_filtered[df_good_fits_rfs_filtered['celltype']==c_type_4].iloc[0]\n",
    "vabsmax = np.maximum(np.max(np.abs(example_4.srf)), np.max(np.abs(example_4.srf2)))\n",
    "plot_srf(ax['F'], srf_params=example_4.srf_params2, color='gray', ls='--')\n",
    "plot_srf(ax['F'], srf=example_4.srf, vabsmax=vabsmax, srf_params=example_4.srf_params)\n",
    "ax['F'].set(xlabel=f'd={example_4.rf_cdia_um:.1f}')\n",
    "ax['F'].set(xticks=[], yticks=[])\n",
    "ax['F'].set_title('G$_{'+str(c_type_4)+'}$',fontsize=10)\n",
    "\n",
    "plot_srf(ax['L'], srf_params=example_4.srf_params, color='gray', ls='--')\n",
    "plot_srf(ax['L'], srf=example_4.srf2, vabsmax=vabsmax, srf_params=example_4.srf_params2)\n",
    "ax['L'].set(xticks=[], yticks=[])\n",
    "diff = example_4.rf_cdia_um_2 - example_4.rf_cdia_um\n",
    "ax['L'].set(xticks=[], yticks=[])\n",
    "ax['L'].set(xlabel=f'd={example_4.rf_cdia_um_2:.1f}\\n'+ fr'={diff/np.maximum(example_4.rf_cdia_um, example_4.rf_cdia_um_2):.0%}')\n",
    "\n",
    "##### Example 5\n",
    "\n",
    "example_5 = df_good_fits_rfs_filtered[df_good_fits_rfs_filtered['celltype']==c_type_5].iloc[1]\n",
    "vabsmax = np.maximum(np.max(np.abs(example_5.srf)), np.max(np.abs(example_5.srf2)))\n",
    "plot_srf(ax['G'], srf_params=example_5.srf_params2, color='gray', ls='--')\n",
    "plot_srf(ax['G'], srf=example_5.srf, vabsmax=vabsmax, srf_params=example_5.srf_params)\n",
    "ax['G'].set(xticks=[], yticks=[])\n",
    "ax['G'].set(xlabel=f'd={example_5.rf_cdia_um:.1f}')\n",
    "ax['G'].set_title('G$_{'+str(c_type_5)+'}$',fontsize=10)\n",
    "\n",
    "plot_srf(ax['M'], srf_params=example_5.srf_params, color='gray', ls='--')\n",
    "plot_srf(ax['M'], srf=example_5.srf2, vabsmax=vabsmax, srf_params=example_5.srf_params2)\n",
    "diff = example_5.rf_cdia_um_2 - example_5.rf_cdia_um\n",
    "ax['M'].set(xticks=[], yticks=[])\n",
    "ax['M'].set(xlabel=f'd={example_5.rf_cdia_um_2:.1f}\\n'+ fr'={diff/np.maximum(example_5.rf_cdia_um, example_5.rf_cdia_um_2):.0%}')\n",
    "\n",
    "##### Example 6\n",
    "\n",
    "example_6 = df_good_fits_rfs_filtered[df_good_fits_rfs_filtered['celltype']==c_type_6].iloc[0]\n",
    "vabsmax = np.maximum(np.max(np.abs(example_6.srf)), np.max(np.abs(example_6.srf2)))\n",
    "plot_srf(ax['H'], srf_params=example_6.srf_params2, color='gray', ls='--')\n",
    "plot_srf(ax['H'], srf=example_6.srf, vabsmax=vabsmax, srf_params=example_6.srf_params)\n",
    "ax['H'].set(xticks=[], yticks=[])\n",
    "ax['H'].set(xlabel=f'd={example_6.rf_cdia_um:.1f}')\n",
    "ax['H'].set_title('G$_{'+str(c_type_6)+'}$',fontsize=10)\n",
    "\n",
    "plot_srf(ax['N'], srf_params=example_6.srf_params, color='gray', ls='--')\n",
    "plot_srf(ax['N'], srf=example_6.srf2, vabsmax=vabsmax, srf_params=example_6.srf_params2)\n",
    "diff = example_6.rf_cdia_um_2 - example_6.rf_cdia_um\n",
    "ax['N'].set(xticks=[], yticks=[])\n",
    "ax['N'].set(xlabel=f'd={example_6.rf_cdia_um_2:.1f}\\n'+ fr'={diff/np.maximum(example_6.rf_cdia_um, example_6.rf_cdia_um_2):.0%}')"
   ]
  },
  {
   "cell_type": "markdown",
   "id": "responsible-stockholm",
   "metadata": {},
   "source": [
    "# statistics: t-test if distribution sig. different from zero"
   ]
  },
  {
   "cell_type": "code",
   "execution_count": 282,
   "id": "fleet-leonard",
   "metadata": {},
   "outputs": [],
   "source": [
    "from scipy import stats"
   ]
  },
  {
   "cell_type": "code",
   "execution_count": 283,
   "id": "according-updating",
   "metadata": {},
   "outputs": [],
   "source": [
    "alpha_bonf_corrected = 0.05/len(np.unique(df_good_fits_rfs_filtered['celltype']))"
   ]
  },
  {
   "cell_type": "code",
   "execution_count": 284,
   "id": "directed-north",
   "metadata": {},
   "outputs": [],
   "source": [
    "good_types = np.unique(df_good_fits_rfs_filtered['celltype'])"
   ]
  },
  {
   "cell_type": "code",
   "execution_count": 285,
   "id": "eastern-panic",
   "metadata": {},
   "outputs": [],
   "source": [
    "p_values_rf_dia = np.zeros(len(np.unique(df_good_fits_rfs_filtered['celltype'])))\n",
    "p_values_sur_idx = np.zeros(len(np.unique(df_good_fits_rfs_filtered['celltype'])))\n",
    "\n",
    "for i,j in enumerate(good_types):\n",
    "    \n",
    "    dia_diff = df_good_fits_rfs_filtered[df_good_fits_rfs_filtered['celltype']==j]['dia_diff_perc'].values\n",
    "    surr_idx = df_good_fits_rfs_filtered[df_good_fits_rfs_filtered['celltype']==j]['surround_index_diff'].values\n",
    "    \n",
    "    p_values_rf_dia[i] = stats.ttest_1samp(dia_diff, popmean=0.0)[1]\n",
    "    p_values_sur_idx[i] = stats.ttest_1samp(surr_idx, popmean=0.0)[1]"
   ]
  },
  {
   "cell_type": "code",
   "execution_count": 290,
   "id": "extreme-conversation",
   "metadata": {},
   "outputs": [
    {
     "data": {
      "text/plain": [
       "array([False, False, False, False, False, False, False, False, False,\n",
       "       False, False])"
      ]
     },
     "execution_count": 290,
     "metadata": {},
     "output_type": "execute_result"
    }
   ],
   "source": [
    "p_values_rf_dia<alpha_bonf_corrected"
   ]
  },
  {
   "cell_type": "code",
   "execution_count": 291,
   "id": "concrete-pepper",
   "metadata": {},
   "outputs": [
    {
     "data": {
      "text/plain": [
       "array([False, False, False, False, False, False, False, False, False,\n",
       "       False, False])"
      ]
     },
     "execution_count": 291,
     "metadata": {},
     "output_type": "execute_result"
    }
   ],
   "source": [
    "p_values_sur_idx<alpha_bonf_corrected"
   ]
  }
 ],
 "metadata": {
  "kernelspec": {
   "display_name": "Python 3",
   "language": "python",
   "name": "python3"
  },
  "language_info": {
   "codemirror_mode": {
    "name": "ipython",
    "version": 3
   },
   "file_extension": ".py",
   "mimetype": "text/x-python",
   "name": "python",
   "nbconvert_exporter": "python",
   "pygments_lexer": "ipython3",
   "version": "3.7.5"
  }
 },
 "nbformat": 4,
 "nbformat_minor": 5
}
