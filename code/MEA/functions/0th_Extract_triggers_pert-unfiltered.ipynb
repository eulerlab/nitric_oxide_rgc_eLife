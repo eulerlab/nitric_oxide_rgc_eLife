{
 "cells": [
  {
   "cell_type": "code",
   "execution_count": 1,
   "metadata": {},
   "outputs": [],
   "source": [
    "MAC=False\n",
    "if MAC: \n",
    "    rootf = '/Users'\n",
    "else:\n",
    "    rootf = '/home'"
   ]
  },
  {
   "cell_type": "code",
   "execution_count": 2,
   "metadata": {},
   "outputs": [
    {
     "name": "stdout",
     "output_type": "stream",
     "text": [
      "Populating the interactive namespace from numpy and matplotlib\n"
     ]
    }
   ],
   "source": [
    "%pylab inline\n",
    "%load_ext autoreload\n",
    "%autoreload 2\n",
    "# %load_ext autotime"
   ]
  },
  {
   "cell_type": "code",
   "execution_count": 3,
   "metadata": {},
   "outputs": [],
   "source": [
    "import os as os\n",
    "import sys\n",
    "sys.path.append('./extraction_functions') #this is where we put all the functions.py\n",
    "sys.path.append('./../../functions_PVA') #this is where we put all the functions.py\n",
    "#from brpylib import *\n",
    "\n",
    "import matplotlib.pyplot as plt\n",
    "from numpy               import arange\n",
    "\n",
    "\n",
    "from extract_triggers import *\n",
    "\n",
    "from save_load import *"
   ]
  },
  {
   "cell_type": "markdown",
   "metadata": {},
   "source": [
    "# Load raw file to extract triggers"
   ]
  },
  {
   "cell_type": "code",
   "execution_count": 5,
   "metadata": {
    "scrolled": true
   },
   "outputs": [
    {
     "name": "stdout",
     "output_type": "stream",
     "text": [
      "[['exp24', 'meas_01.raw'], ['exp24', 'meas_02.raw'], ['exp24', 'meas_03.raw'], ['exp24', 'meas_04.raw'], ['exp24', 'meas_05.raw'], ['exp24', 'meas_06.raw']]\n"
     ]
    },
    {
     "data": {
      "text/plain": [
       "['/media/matias/data/DATA_pert/sorted/exp24/exp24-meas_01.raw',\n",
       " '/media/matias/data/DATA_pert/sorted/exp24/exp24-meas_02.raw',\n",
       " '/media/matias/data/DATA_pert/sorted/exp24/exp24-meas_03.raw',\n",
       " '/media/matias/data/DATA_pert/sorted/exp24/exp24-meas_04.raw',\n",
       " '/media/matias/data/DATA_pert/sorted/exp24/exp24-meas_05.raw',\n",
       " '/media/matias/data/DATA_pert/sorted/exp24/exp24-meas_06.raw']"
      ]
     },
     "execution_count": 5,
     "metadata": {},
     "output_type": "execute_result"
    }
   ],
   "source": [
    "rawfiles = []\n",
    "rawnames = []\n",
    "rawcount=0\n",
    "\n",
    "rawdir ='/mnt/usb-Seagate_Basic_NABCT3TJ-0:0-part2/DATA_FIX/RAW_unfiltered/'\n",
    "\n",
    "#-----------------------------------------------\n",
    "# Here I load all the pickles names\n",
    "# we make the list of names, and the list of address to open\n",
    "#-----------------------------------------------\n",
    "rawfilesdata = getfiles(startdir=rawdir, phrase='.raw', function='endswith')\n",
    "for rf in rawfilesdata:\n",
    "    rawfiles.append(rf)\n",
    "\n",
    "rawfiles = sorted(rawfiles)\n",
    "\n",
    "for rf in rawfiles[:]:\n",
    "    rawnames.append(((rf.split('/')[-1].split('-')[0:2])))\n",
    "\n",
    "rawcount = len(rawfiles)\n",
    "print(rawnames)   \n",
    "rawfiles\n",
    "np.where(np.array(rawnames)=='exp4')[0]\n",
    "rawfiles"
   ]
  },
  {
   "cell_type": "code",
   "execution_count": 6,
   "metadata": {},
   "outputs": [
    {
     "name": "stderr",
     "output_type": "stream",
     "text": [
      "  0%|          | 28297/61538000 [00:00<03:40, 279160.54it/s]"
     ]
    },
    {
     "name": "stdout",
     "output_type": "stream",
     "text": [
      "1\n",
      "/media/matias/data/DATA_pert/sorted/exp24/exp24-meas_01.raw\n",
      "/home/matias/Dropbox/Drop-IdV/git-Perturbation/analysis/pert_DATA/pckls_triggers/exp24-meas_01_triggers_unfilt\n"
     ]
    },
    {
     "name": "stderr",
     "output_type": "stream",
     "text": [
      "100%|██████████| 61538000/61538000 [02:39<00:00, 386585.73it/s]\n",
      "  0%|          | 0/15998000 [00:00<?, ?it/s]"
     ]
    },
    {
     "name": "stdout",
     "output_type": "stream",
     "text": [
      "91802 30909493.5501732\n",
      "2\n",
      "/media/matias/data/DATA_pert/sorted/exp24/exp24-meas_02.raw\n",
      "/home/matias/Dropbox/Drop-IdV/git-Perturbation/analysis/pert_DATA/pckls_triggers/exp24-meas_02_triggers_unfilt\n"
     ]
    },
    {
     "name": "stderr",
     "output_type": "stream",
     "text": [
      "100%|██████████| 15998000/15998000 [00:40<00:00, 390735.46it/s]\n",
      "  0%|          | 17665/8370000 [00:00<00:47, 176196.06it/s]"
     ]
    },
    {
     "name": "stdout",
     "output_type": "stream",
     "text": [
      "32400 6794150.436450617\n",
      "3\n",
      "/media/matias/data/DATA_pert/sorted/exp24/exp24-meas_03.raw\n",
      "/home/matias/Dropbox/Drop-IdV/git-Perturbation/analysis/pert_DATA/pckls_triggers/exp24-meas_03_triggers_unfilt\n"
     ]
    },
    {
     "name": "stderr",
     "output_type": "stream",
     "text": [
      "100%|██████████| 8370000/8370000 [00:19<00:00, 427841.47it/s]\n",
      "  0%|          | 27635/99604000 [00:00<06:00, 276348.29it/s]"
     ]
    },
    {
     "name": "stdout",
     "output_type": "stream",
     "text": [
      "19200 4244032.941458333\n",
      "4\n",
      "/media/matias/data/DATA_pert/sorted/exp24/exp24-meas_04.raw\n",
      "/home/matias/Dropbox/Drop-IdV/git-Perturbation/analysis/pert_DATA/pckls_triggers/exp24-meas_04_triggers_unfilt\n"
     ]
    },
    {
     "name": "stderr",
     "output_type": "stream",
     "text": [
      "100%|██████████| 99604000/99604000 [04:19<00:00, 383397.44it/s]\n"
     ]
    },
    {
     "name": "stdout",
     "output_type": "stream",
     "text": [
      "198000 49794138.383040406\n"
     ]
    },
    {
     "name": "stderr",
     "output_type": "stream",
     "text": [
      "  0%|          | 30398/100176000 [00:00<05:29, 303969.42it/s]"
     ]
    },
    {
     "name": "stdout",
     "output_type": "stream",
     "text": [
      "5\n",
      "/media/matias/data/DATA_pert/sorted/exp24/exp24-meas_05.raw\n",
      "/home/matias/Dropbox/Drop-IdV/git-Perturbation/analysis/pert_DATA/pckls_triggers/exp24-meas_05_triggers_unfilt\n"
     ]
    },
    {
     "name": "stderr",
     "output_type": "stream",
     "text": [
      "100%|██████████| 100176000/100176000 [04:25<00:00, 376707.77it/s]\n"
     ]
    },
    {
     "name": "stdout",
     "output_type": "stream",
     "text": [
      "194400 50902717.595349796\n"
     ]
    },
    {
     "name": "stderr",
     "output_type": "stream",
     "text": [
      "  0%|          | 28673/98868000 [00:00<05:44, 286631.18it/s]"
     ]
    },
    {
     "name": "stdout",
     "output_type": "stream",
     "text": [
      "6\n",
      "/media/matias/data/DATA_pert/sorted/exp24/exp24-meas_06.raw\n",
      "/home/matias/Dropbox/Drop-IdV/git-Perturbation/analysis/pert_DATA/pckls_triggers/exp24-meas_06_triggers_unfilt\n"
     ]
    },
    {
     "name": "stderr",
     "output_type": "stream",
     "text": [
      "100%|██████████| 98868000/98868000 [04:27<00:00, 369854.74it/s]\n"
     ]
    },
    {
     "name": "stdout",
     "output_type": "stream",
     "text": [
      "194400 49140621.08658436\n",
      "Done!\n"
     ]
    }
   ],
   "source": [
    "exp = '24'\n",
    "nfiles = 6\n",
    "\n",
    "meas_skip=[]    # do only measurement N\n",
    "SKIP= False\n",
    "\n",
    "fs=20000\n",
    "\n",
    "MEA = 2                  # select MEA\n",
    "\n",
    "Nchannels  = 256              #256 for standard MEA, 17 for MEA1 Polychrome\n",
    "channel_id = 126              #126 for standard MEA, 1 for MEA1 Polycrhome\n",
    "\n",
    "\n",
    "if MEA==1: threshold  = 270e+3         # 270e+3 for MEA1, 50e+3 for MEA2, -3.14470e+5 for MEA1 Polycrhome\n",
    "if MEA==2: threshold  = 50e+3          \n",
    "\n",
    "rootF = rootf + '/matias/Dropbox/Drop-IdV/git-Perturbation/analysis/pert_DATA/pckls_triggers/'\n",
    "Fsave = rootF\n",
    "\n",
    "indexes = np.where(np.array(rawnames)=='exp'+str(exp))[0]\n",
    "mcount=0\n",
    "for meas in indexes[:]:\n",
    "    mcount+=1\n",
    "    \n",
    "    #----------------------\n",
    "    if SKIP:\n",
    "        if mcount in meas_skip: continue\n",
    "    #----------------------\n",
    "    print(mcount)\n",
    "    f_base = rawfiles[meas]\n",
    "    print(f_base)\n",
    "    f_out = rootF + 'exp'+str(exp)+'-meas_0' + str(mcount) + '_triggers_unfilt'\n",
    "    print(f_out)\n",
    "    indices,data, t_tot =  extract(input_path=f_base , dtype='uint16', nb_channels=Nchannels, channel_id=channel_id, output_path=None,threshold =threshold)\n",
    "    \n",
    "    print(len(indices),mean(indices))\n",
    "\n",
    "    save_obj([indices,t_tot],f_out )\n",
    "    save_obj(data,f_out+'_data')\n",
    "\n",
    "print('Done!')"
   ]
  },
  {
   "cell_type": "markdown",
   "metadata": {},
   "source": [
    "# Run Sanity Check"
   ]
  },
  {
   "cell_type": "code",
   "execution_count": 14,
   "metadata": {},
   "outputs": [
    {
     "name": "stdout",
     "output_type": "stream",
     "text": [
      "Measurement  1\n",
      "Minimal sanity check ok.\n",
      "Measurement  2\n",
      "Minimal sanity check ok.\n",
      "Measurement  3\n"
     ]
    },
    {
     "ename": "UserWarning",
     "evalue": "Triggers are not evenly spaced (some missing?).",
     "output_type": "error",
     "traceback": [
      "\u001b[0;31m---------------------------------------------------------------------------\u001b[0m",
      "\u001b[0;31mUserWarning\u001b[0m                               Traceback (most recent call last)",
      "\u001b[0;32m<ipython-input-14-a8d04c94c2ac>\u001b[0m in \u001b[0;36m<module>\u001b[0;34m\u001b[0m\n\u001b[1;32m     22\u001b[0m     \u001b[0mindices\u001b[0m\u001b[0;34m,\u001b[0m \u001b[0mttot\u001b[0m \u001b[0;34m=\u001b[0m \u001b[0mload_obj\u001b[0m\u001b[0;34m(\u001b[0m\u001b[0mf\u001b[0m\u001b[0;34m)\u001b[0m\u001b[0;34m\u001b[0m\u001b[0;34m\u001b[0m\u001b[0m\n\u001b[1;32m     23\u001b[0m     \u001b[0mindices\u001b[0m\u001b[0;34m.\u001b[0m\u001b[0mshape\u001b[0m\u001b[0;34m,\u001b[0m\u001b[0mttot\u001b[0m\u001b[0;34m\u001b[0m\u001b[0;34m\u001b[0m\u001b[0m\n\u001b[0;32m---> 24\u001b[0;31m     \u001b[0mrun_minimal_sanity_check\u001b[0m\u001b[0;34m(\u001b[0m\u001b[0mindices\u001b[0m\u001b[0;34m[\u001b[0m\u001b[0;34m:\u001b[0m\u001b[0;34m]\u001b[0m\u001b[0;34m)\u001b[0m\u001b[0;34m\u001b[0m\u001b[0;34m\u001b[0m\u001b[0m\n\u001b[0m\u001b[1;32m     25\u001b[0m     \u001b[0;31m# indices\u001b[0m\u001b[0;34m\u001b[0m\u001b[0;34m\u001b[0m\u001b[0;34m\u001b[0m\u001b[0m\n\u001b[1;32m     26\u001b[0m     \u001b[0mindices\u001b[0m\u001b[0;34m.\u001b[0m\u001b[0mshape\u001b[0m\u001b[0;34m\u001b[0m\u001b[0;34m\u001b[0m\u001b[0m\n",
      "\u001b[0;32m~/Dropbox/Drop-IdV/git-Perturbation/analysis/pert_PIPELINE/extraction_functions/extract_triggers.py\u001b[0m in \u001b[0;36mrun_minimal_sanity_check\u001b[0;34m(triggers, sampling_rate, maximal_jitter)\u001b[0m\n\u001b[1;32m    171\u001b[0m     \u001b[0;32mif\u001b[0m \u001b[0;32mnot\u001b[0m \u001b[0mnp\u001b[0m\u001b[0;34m.\u001b[0m\u001b[0mall\u001b[0m\u001b[0;34m(\u001b[0m\u001b[0mnp\u001b[0m\u001b[0;34m.\u001b[0m\u001b[0mabs\u001b[0m\u001b[0;34m(\u001b[0m\u001b[0minter_trigger_values\u001b[0m \u001b[0;34m-\u001b[0m \u001b[0minter_trigger_value\u001b[0m\u001b[0;34m)\u001b[0m \u001b[0;34m<=\u001b[0m \u001b[0mmaximal_jitter\u001b[0m \u001b[0;34m*\u001b[0m \u001b[0msampling_rate\u001b[0m\u001b[0;34m)\u001b[0m\u001b[0;34m:\u001b[0m\u001b[0;34m\u001b[0m\u001b[0;34m\u001b[0m\u001b[0m\n\u001b[1;32m    172\u001b[0m         \u001b[0mmessage\u001b[0m \u001b[0;34m=\u001b[0m \u001b[0;34m\"Triggers are not evenly spaced (some missing?).\"\u001b[0m\u001b[0;34m\u001b[0m\u001b[0;34m\u001b[0m\u001b[0m\n\u001b[0;32m--> 173\u001b[0;31m         \u001b[0;32mraise\u001b[0m \u001b[0mUserWarning\u001b[0m\u001b[0;34m(\u001b[0m\u001b[0mmessage\u001b[0m\u001b[0;34m)\u001b[0m\u001b[0;34m\u001b[0m\u001b[0;34m\u001b[0m\u001b[0m\n\u001b[0m\u001b[1;32m    174\u001b[0m     \u001b[0;32melse\u001b[0m\u001b[0;34m:\u001b[0m\u001b[0;34m\u001b[0m\u001b[0;34m\u001b[0m\u001b[0m\n\u001b[1;32m    175\u001b[0m         \u001b[0mprint\u001b[0m\u001b[0;34m(\u001b[0m\u001b[0;34m\"Minimal sanity check ok.\"\u001b[0m\u001b[0;34m)\u001b[0m\u001b[0;34m\u001b[0m\u001b[0;34m\u001b[0m\u001b[0m\n",
      "\u001b[0;31mUserWarning\u001b[0m: Triggers are not evenly spaced (some missing?)."
     ]
    }
   ],
   "source": [
    "exp=24\n",
    "nmeas=6\n",
    "\n",
    "meas_skip=[3]    # do only measurement N\n",
    "SKIP= False\n",
    "\n",
    "rootF = rootf + '/matias/Dropbox/Drop-IdV/git-Perturbation/analysis/pert_DATA/pckls_triggers/'\n",
    "\n",
    "for meas in np.arange(nmeas)+1:\n",
    "    #----------------------\n",
    "    if SKIP:\n",
    "        if meas in meas_skip: continue\n",
    "    #----------------------\n",
    "    \n",
    "    print('Measurement ', meas)\n",
    "    \n",
    "    f=rootF + 'exp'+str(exp)+'-meas_0' + str(meas) + '_triggers_unfilt'# +'_TEST'\n",
    "\n",
    "    indices, ttot = load_obj(f)\n",
    "    indices.shape,ttot\n",
    "    run_minimal_sanity_check(indices[:])\n",
    "    # indices\n",
    "    indices.shape"
   ]
  },
  {
   "cell_type": "code",
   "execution_count": 92,
   "metadata": {},
   "outputs": [],
   "source": [
    "#/home/matias/Dropbox/Drop-IdV/git-Perturbation/analysis/pert_DATA\n",
    "rootF = rootf + '/matias/Dropbox/Drop-IdV/git-Perturbation/analysis/pert_DATA/pckls_triggers/'\n",
    "\n",
    "f_out = rootF + 'exp'+str(exp)+'-meas_0' + str(mcount) + '_triggers_unfilt'# +'_TEST'\n",
    "# save_obj([indices,t_tot],f_out)\n",
    "# save_obj(data,f_out+'_data')"
   ]
  },
  {
   "cell_type": "markdown",
   "metadata": {},
   "source": [
    "# Plot Data in case sanity check fails to correct it"
   ]
  },
  {
   "cell_type": "markdown",
   "metadata": {},
   "source": [
    "### Indices"
   ]
  },
  {
   "cell_type": "code",
   "execution_count": 16,
   "metadata": {},
   "outputs": [
    {
     "data": {
      "text/plain": [
       "((19200,), 418.5)"
      ]
     },
     "execution_count": 16,
     "metadata": {},
     "output_type": "execute_result"
    }
   ],
   "source": [
    "# Get indices\n",
    "exp=24\n",
    "meas=3\n",
    "\n",
    "rootF = rootf + '/matias/Dropbox/Drop-IdV/git-Perturbation/analysis/pert_DATA/pckls_triggers/'\n",
    "f=rootF + 'exp'+str(exp)+'-meas_0' + str(meas) + '_triggers_unfilt' \n",
    "\n",
    "indices, ttot = load_obj(f)\n",
    "indices.shape,ttot"
   ]
  },
  {
   "cell_type": "code",
   "execution_count": 18,
   "metadata": {},
   "outputs": [
    {
     "data": {
      "text/plain": [
       "19200"
      ]
     },
     "execution_count": 18,
     "metadata": {},
     "output_type": "execute_result"
    },
    {
     "data": {
      "image/png": "[encoded data removed]",
      "text/plain": [
       "<Figure size 432x288 with 1 Axes>"
      ]
     },
     "metadata": {
      "needs_background": "light"
     },
     "output_type": "display_data"
    },
    {
     "data": {
      "image/png": "[encoded data removed]",
      "text/plain": [
       "<Figure size 432x288 with 1 Axes>"
      ]
     },
     "metadata": {
      "needs_background": "light"
     },
     "output_type": "display_data"
    }
   ],
   "source": [
    "# Plot\n",
    "\n",
    "# plot(diff(indices)[0:450000])\n",
    "# print(np.where(diff(indices)>2000))\n",
    "# print(diff(indices)[138300:138500])\n",
    "\n",
    "figure()\n",
    "plot(diff(indices)[:])\n",
    "indices\n",
    "diff(indices)\n",
    "indices[0]\n",
    "len(indices)\n",
    "\n",
    "figure()\n",
    "plot(indices)\n",
    "len(indices)"
   ]
  },
  {
   "cell_type": "markdown",
   "metadata": {},
   "source": [
    "### Raw traces"
   ]
  },
  {
   "cell_type": "code",
   "execution_count": 164,
   "metadata": {},
   "outputs": [
    {
     "data": {
      "text/plain": [
       "(39168000,)"
      ]
     },
     "execution_count": 164,
     "metadata": {},
     "output_type": "execute_result"
    }
   ],
   "source": [
    "# Get raw traces\n",
    "exp=4\n",
    "meas=2\n",
    "\n",
    "f=rootf + '/matias/Dropbox/Drop-IdV/git-Perturbation/analysis/data_SS/pckls_triggers/exp'+str(exp)+'-meas_0'+str(meas)+'_triggers_unfilt_data'\n",
    "indices2 = load_obj(f)\n",
    "indices2.shape"
   ]
  },
  {
   "cell_type": "code",
   "execution_count": 166,
   "metadata": {},
   "outputs": [
    {
     "name": "stdout",
     "output_type": "stream",
     "text": [
      "8000000\n"
     ]
    },
    {
     "data": {
      "image/png": "[encoded data removed]",
      "text/plain": [
       "<Figure size 1440x288 with 1 Axes>"
      ]
     },
     "metadata": {
      "needs_background": "light"
     },
     "output_type": "display_data"
    }
   ],
   "source": [
    "# Plot\n",
    "figure(figsize=(20,4))\n",
    "shift=0\n",
    "\n",
    "fs=20000#20000\n",
    "\n",
    "x0=18*fs          #0*500 #+ int(0.5*1e+6) + 150000\n",
    "\n",
    "plt.plot(indices2[x0+shift:x0+fs*2+shift])\n",
    "# plt.plot(indices2[-fs*300+shift:])\n",
    "print(16000*500)\n",
    "# xlim([1e6*0.5,1e6*3])"
   ]
  },
  {
   "cell_type": "code",
   "execution_count": 44,
   "metadata": {},
   "outputs": [
    {
     "name": "stdout",
     "output_type": "stream",
     "text": [
      "8000000\n"
     ]
    },
    {
     "data": {
      "image/png": "[encoded data removed]",
      "text/plain": [
       "<Figure size 1440x288 with 1 Axes>"
      ]
     },
     "metadata": {
      "needs_background": "light"
     },
     "output_type": "display_data"
    }
   ],
   "source": [
    "# Plot\n",
    "figure(figsize=(20,4))\n",
    "shift=0\n",
    "fs=20000#20000\n",
    "x0=20*fs#0*500 #+ int(0.5*1e+6) + 150000\n",
    "plt.plot(indices2[x0+shift:x0+fs*1+shift])\n",
    "print(16000*500)\n",
    "#xlim([1e6*0.5,1e6*3])"
   ]
  },
  {
   "cell_type": "code",
   "execution_count": null,
   "metadata": {},
   "outputs": [],
   "source": []
  },
  {
   "cell_type": "code",
   "execution_count": null,
   "metadata": {},
   "outputs": [],
   "source": []
  },
  {
   "cell_type": "code",
   "execution_count": null,
   "metadata": {},
   "outputs": [],
   "source": []
  },
  {
   "cell_type": "code",
   "execution_count": null,
   "metadata": {},
   "outputs": [],
   "source": []
  },
  {
   "cell_type": "code",
   "execution_count": null,
   "metadata": {},
   "outputs": [],
   "source": []
  },
  {
   "cell_type": "code",
   "execution_count": null,
   "metadata": {},
   "outputs": [],
   "source": []
  },
  {
   "cell_type": "code",
   "execution_count": null,
   "metadata": {},
   "outputs": [],
   "source": []
  },
  {
   "cell_type": "code",
   "execution_count": 120,
   "metadata": {},
   "outputs": [
    {
     "data": {
      "text/plain": [
       "[<matplotlib.lines.Line2D at 0x7f3b6d965f10>]"
      ]
     },
     "execution_count": 120,
     "metadata": {},
     "output_type": "execute_result"
    },
    {
     "data": {
      "image/png": "[encoded data removed]",
      "text/plain": [
       "<Figure size 432x288 with 1 Axes>"
      ]
     },
     "metadata": {
      "needs_background": "light"
     },
     "output_type": "display_data"
    }
   ],
   "source": [
    "fs=20000\n",
    "x0=0\n",
    "plt.plot(indices2[x0:x0+fs*30])\n",
    "#print(16000*500)"
   ]
  },
  {
   "cell_type": "code",
   "execution_count": null,
   "metadata": {
    "collapsed": true
   },
   "outputs": [],
   "source": []
  },
  {
   "cell_type": "code",
   "execution_count": null,
   "metadata": {
    "collapsed": true
   },
   "outputs": [],
   "source": []
  },
  {
   "cell_type": "code",
   "execution_count": null,
   "metadata": {
    "collapsed": true
   },
   "outputs": [],
   "source": []
  },
  {
   "cell_type": "code",
   "execution_count": null,
   "metadata": {
    "collapsed": true
   },
   "outputs": [],
   "source": []
  },
  {
   "cell_type": "code",
   "execution_count": null,
   "metadata": {
    "collapsed": true
   },
   "outputs": [],
   "source": []
  },
  {
   "cell_type": "code",
   "execution_count": null,
   "metadata": {
    "collapsed": true
   },
   "outputs": [],
   "source": []
  }
 ],
 "metadata": {
  "kernelspec": {
   "display_name": "Python 3",
   "language": "python",
   "name": "python3"
  },
  "language_info": {
   "codemirror_mode": {
    "name": "ipython",
    "version": 3
   },
   "file_extension": ".py",
   "mimetype": "text/x-python",
   "name": "python",
   "nbconvert_exporter": "python",
   "pygments_lexer": "ipython3",
   "version": "3.8.3"
  }
 },
 "nbformat": 4,
 "nbformat_minor": 2
}
